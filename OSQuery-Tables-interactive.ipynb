{
 "cells": [
  {
   "cell_type": "markdown",
   "metadata": {},
   "source": [
    "# SETUP"
   ]
  },
  {
   "cell_type": "markdown",
   "metadata": {},
   "source": [
    "### Install and Upgrade `pip` packages if needed"
   ]
  },
  {
   "cell_type": "code",
   "execution_count": null,
   "metadata": {},
   "outputs": [],
   "source": [
    "!pip install --upgrade --user pip\n",
    "!pip install gitpython\n",
    "!pip install pyvis"
   ]
  },
  {
   "cell_type": "markdown",
   "metadata": {},
   "source": [
    "### Import modules in this Jupyter Notebook"
   ]
  },
  {
   "cell_type": "code",
   "execution_count": 69,
   "metadata": {},
   "outputs": [],
   "source": [
    "#standard modules to use and manipulate dataframes\n",
    "import numpy as np\n",
    "import pandas as pd\n",
    "#git to import needed repository\n",
    "import git\n",
    "#to substitute git\n",
    "import requests, zipfile, io\n",
    "#pathlib to run code against locations on disk\n",
    "import pathlib\n",
    "#re for regular expresion based extracts\n",
    "import re\n",
    "#module to copy a value a in a dataframe, didnt find an easier way\n",
    "from itertools import cycle\n",
    "#below modules to create the graphs and computations on the graphs\n",
    "import networkx as nx\n",
    "import matplotlib.pyplot as plt\n",
    "from pyvis.network import Network\n",
    "#for the select box\n",
    "import ipywidgets as widgets\n",
    "from ipywidgets import interact#, interact_manual"
   ]
  },
  {
   "cell_type": "markdown",
   "metadata": {},
   "source": [
    "### Dataframe Display Formatting"
   ]
  },
  {
   "cell_type": "code",
   "execution_count": null,
   "metadata": {},
   "outputs": [],
   "source": [
    "pd.set_option('display.max_rows', 50)\n",
    "pd.set_option('display.max_colwidth', -1)\n",
    "pd.set_option('display.max_columns', None)"
   ]
  },
  {
   "cell_type": "markdown",
   "metadata": {},
   "source": [
    "# INGEST AND MANIPULATE DATA"
   ]
  },
  {
   "cell_type": "markdown",
   "metadata": {},
   "source": [
    "### Git clone OSQuery repository"
   ]
  },
  {
   "cell_type": "code",
   "execution_count": 70,
   "metadata": {},
   "outputs": [],
   "source": [
    "url = \"https://github.com/osquery/osquery.git\"\n",
    "#Set dir\n",
    "dir_git = re.search( r'^.*/(.+).git$', url, re.M|re.I).group(1)\n",
    "p = pathlib.Path(dir_git)"
   ]
  },
  {
   "cell_type": "code",
   "execution_count": 71,
   "metadata": {},
   "outputs": [
    {
     "name": "stdout",
     "output_type": "stream",
     "text": [
      "Git folder already exists. Skipping...\n"
     ]
    }
   ],
   "source": [
    "if p.exists():\n",
    "    print (\"Git folder already exists. Skipping...\")\n",
    "else:\n",
    "    print (\"Git cloning folder...\")\n",
    "    git.Git(\".\").clone(url)\n"
   ]
  },
  {
   "cell_type": "markdown",
   "metadata": {},
   "source": [
    "## TODO: need to work on this file structure needs to be removed"
   ]
  },
  {
   "cell_type": "code",
   "execution_count": null,
   "metadata": {},
   "outputs": [],
   "source": [
    "#Based on https://twitter.com/curi0usJack/status/1255702362225811457?s=20\n",
    "#get the API data of the latest release\n",
    "url_github_latest = \"https://api.github.com/repos/osquery/osquery/releases/latest\"\n",
    "response = requests.get(url_github_latest).json() \n",
    "  \n",
    "#response was in json and put in dict so can be called easily\n",
    "url_github_dl = response['zipball_url']\n",
    "\n",
    "#get zipped content and unzip\n",
    "github_content = requests.get(url_github_dl, stream=True)\n",
    "zippedcontent = zipfile.ZipFile(io.BytesIO(github_content.content))\n",
    "#zippedcontent.namelist()\n",
    "\n",
    "listOfFileNames = zippedcontent.namelist()\n",
    "# Iterate over the file names\n",
    "for fileName in listOfFileNames:\n",
    "   # Check filename endswith csv\n",
    "   if fileName.endswith('.table'):\n",
    "       # Extract a single file from zip\n",
    "       zippedcontent.extract(fileName, 'osquery-tables')\n",
    "#zippedcontent.extractall()"
   ]
  },
  {
   "cell_type": "markdown",
   "metadata": {},
   "source": [
    "### Extract table names and columns from the OSQuery table files"
   ]
  },
  {
   "cell_type": "code",
   "execution_count": 72,
   "metadata": {},
   "outputs": [],
   "source": [
    "def osquery_table_extract(dir_git):\n",
    "    table_columns = []\n",
    "    for path in p.rglob(\"*.table\"):\n",
    "        if path.is_file() and 'example' not in path.stem:\n",
    "            cf = open(path, \"r\", encoding=\"utf-8\").read()\n",
    "            tline = re.findall(r'table_name\\(\\\"(\\w+)\\\".*\\)',cf)\n",
    "            #below line is used to find all columns that do not have attribute hidden=True\n",
    "            clines = re.findall(r'Column\\(\\\"(\\w+?)\\\".+?(\\n)?.+? (?!hidden=True)\\S+\\),$',cf,re.M)\n",
    "            #regex returns tuples because of the multiline matching so with list comprehesion turning it back in a list\n",
    "            clines = [i[0] for i in clines]\n",
    "            tcList =  list(zip(cycle(tline),clines))\n",
    "        table_columns.append(tcList)\n",
    "    return(table_columns)"
   ]
  },
  {
   "cell_type": "markdown",
   "metadata": {},
   "source": [
    "Get all data from function and put in DF."
   ]
  },
  {
   "cell_type": "code",
   "execution_count": 73,
   "metadata": {},
   "outputs": [
    {
     "data": {
      "text/html": [
       "<div>\n",
       "<style scoped>\n",
       "    .dataframe tbody tr th:only-of-type {\n",
       "        vertical-align: middle;\n",
       "    }\n",
       "\n",
       "    .dataframe tbody tr th {\n",
       "        vertical-align: top;\n",
       "    }\n",
       "\n",
       "    .dataframe thead th {\n",
       "        text-align: right;\n",
       "    }\n",
       "</style>\n",
       "<table border=\"1\" class=\"dataframe\">\n",
       "  <thead>\n",
       "    <tr style=\"text-align: right;\">\n",
       "      <th></th>\n",
       "      <th>Table</th>\n",
       "      <th>Column</th>\n",
       "    </tr>\n",
       "  </thead>\n",
       "  <tbody>\n",
       "    <tr>\n",
       "      <td>0</td>\n",
       "      <td>arp_cache</td>\n",
       "      <td>address</td>\n",
       "    </tr>\n",
       "    <tr>\n",
       "      <td>1</td>\n",
       "      <td>arp_cache</td>\n",
       "      <td>mac</td>\n",
       "    </tr>\n",
       "    <tr>\n",
       "      <td>2</td>\n",
       "      <td>arp_cache</td>\n",
       "      <td>interface</td>\n",
       "    </tr>\n",
       "    <tr>\n",
       "      <td>3</td>\n",
       "      <td>arp_cache</td>\n",
       "      <td>permanent</td>\n",
       "    </tr>\n",
       "    <tr>\n",
       "      <td>4</td>\n",
       "      <td>atom_packages</td>\n",
       "      <td>name</td>\n",
       "    </tr>\n",
       "    <tr>\n",
       "      <td>...</td>\n",
       "      <td>...</td>\n",
       "      <td>...</td>\n",
       "    </tr>\n",
       "    <tr>\n",
       "      <td>2127</td>\n",
       "      <td>yara_events</td>\n",
       "      <td>matches</td>\n",
       "    </tr>\n",
       "    <tr>\n",
       "      <td>2128</td>\n",
       "      <td>yara_events</td>\n",
       "      <td>count</td>\n",
       "    </tr>\n",
       "    <tr>\n",
       "      <td>2129</td>\n",
       "      <td>yara_events</td>\n",
       "      <td>strings</td>\n",
       "    </tr>\n",
       "    <tr>\n",
       "      <td>2130</td>\n",
       "      <td>yara_events</td>\n",
       "      <td>tags</td>\n",
       "    </tr>\n",
       "    <tr>\n",
       "      <td>2131</td>\n",
       "      <td>yara_events</td>\n",
       "      <td>time</td>\n",
       "    </tr>\n",
       "  </tbody>\n",
       "</table>\n",
       "<p>2132 rows × 2 columns</p>\n",
       "</div>"
      ],
      "text/plain": [
       "              Table     Column\n",
       "0         arp_cache    address\n",
       "1         arp_cache        mac\n",
       "2         arp_cache  interface\n",
       "3         arp_cache  permanent\n",
       "4     atom_packages       name\n",
       "...             ...        ...\n",
       "2127    yara_events    matches\n",
       "2128    yara_events      count\n",
       "2129    yara_events    strings\n",
       "2130    yara_events       tags\n",
       "2131    yara_events       time\n",
       "\n",
       "[2132 rows x 2 columns]"
      ]
     },
     "execution_count": 73,
     "metadata": {},
     "output_type": "execute_result"
    }
   ],
   "source": [
    "extract = osquery_table_extract(dir_git)\n",
    "extract_df = pd.DataFrame([t for lst in extract for t in lst], columns = ['Table','Column'])\n",
    "\n",
    "#Check count of tables to be sure all have been processed.\n",
    "#Difference in count table names against osquery website, I filtered out example.table as it is just an example table.\n",
    "#print('Tables', extract_df.Table.nunique())\n",
    "extract_df"
   ]
  },
  {
   "cell_type": "markdown",
   "metadata": {},
   "source": [
    "### Add OS to table based on cMakelists file\n",
    "\n",
    "Keep working on crashes vs windows_crashes issue otherwise workaround change the data manually"
   ]
  },
  {
   "cell_type": "code",
   "execution_count": 74,
   "metadata": {},
   "outputs": [],
   "source": [
    "def osquery_table_os(tname):\n",
    "    tname_cmake = 0\n",
    "    with open(str(dir_git)+'/specs/cMakelists.txt', 'r') as read_obj:\n",
    "        for line in read_obj:\n",
    "            if tname in line:\n",
    "                if '/' in line:\n",
    "                    #used to delete part of string that can give double matches bases on tables names that have same start or end.\n",
    "                    tname_cmake = re.search( r'^.*/(.*)$', line, re.M|re.I).group(1)\n",
    "                else:\n",
    "                    tname_cmake = line.strip()\n",
    "    return(tname_cmake)"
   ]
  },
  {
   "cell_type": "code",
   "execution_count": 75,
   "metadata": {},
   "outputs": [],
   "source": [
    "tname_list = []\n",
    "for tname in extract_df['Table']:\n",
    "    table_os = osquery_table_os(tname)\n",
    "    if ':' in str(table_os):\n",
    "        t_os = re.search(r'^.+?:(.+?)\"$', table_os, re.M|re.I).group(1)\n",
    "        tname_list.append(t_os)\n",
    "    elif '0' in str(table_os):\n",
    "        #not in the cmake list file but on the website so manually add the OS\n",
    "        t_os = 'no_os'\n",
    "        tname_list.append(t_os)\n",
    "    else:\n",
    "        t_os = 'linux,macos,freebsd,windows'\n",
    "        tname_list.append(t_os)\n",
    "    \n",
    "extract_df_os = extract_df\n",
    "extract_df_os['OS'] = tname_list "
   ]
  },
  {
   "cell_type": "markdown",
   "metadata": {},
   "source": [
    "Workaround for issue that some tables did not get the correct OS assignment, fix this later in the re.search in the osquery_table_os function.  \n",
    "Tables that have no_os need manual assignment also"
   ]
  },
  {
   "cell_type": "code",
   "execution_count": 76,
   "metadata": {},
   "outputs": [
    {
     "data": {
      "text/html": [
       "<div>\n",
       "<style scoped>\n",
       "    .dataframe tbody tr th:only-of-type {\n",
       "        vertical-align: middle;\n",
       "    }\n",
       "\n",
       "    .dataframe tbody tr th {\n",
       "        vertical-align: top;\n",
       "    }\n",
       "\n",
       "    .dataframe thead th {\n",
       "        text-align: right;\n",
       "    }\n",
       "</style>\n",
       "<table border=\"1\" class=\"dataframe\">\n",
       "  <thead>\n",
       "    <tr style=\"text-align: right;\">\n",
       "      <th></th>\n",
       "      <th>Table</th>\n",
       "      <th>Column</th>\n",
       "      <th>OS</th>\n",
       "    </tr>\n",
       "  </thead>\n",
       "  <tbody>\n",
       "  </tbody>\n",
       "</table>\n",
       "</div>"
      ],
      "text/plain": [
       "Empty DataFrame\n",
       "Columns: [Table, Column, OS]\n",
       "Index: []"
      ]
     },
     "execution_count": 76,
     "metadata": {},
     "output_type": "execute_result"
    }
   ],
   "source": [
    "extract_df_os.loc[extract_df_os.Table == 'crashes', 'OS'] = 'macos'\n",
    "extract_df_os.loc[extract_df_os.Table == 'azure_instance_metadata', 'OS'] = 'linux,macos,freebsd,windows'\n",
    "extract_df_os.loc[extract_df_os.Table == 'azure_instance_tags', 'OS'] = 'linux,macos,freebsd,windows'\n",
    "extract_df_os.loc[extract_df_os.Table == 'wifi_survey', 'OS'] = 'macos'\n",
    "\n",
    "#to check if there are any no_os from the CmakeLists file, if so make the changes manually based on osquery schema website\n",
    "extract_df_os.loc[extract_df_os.OS == 'no_os']"
   ]
  },
  {
   "cell_type": "markdown",
   "metadata": {},
   "source": [
    "### Create separate dataframes based on OS"
   ]
  },
  {
   "cell_type": "code",
   "execution_count": 104,
   "metadata": {},
   "outputs": [],
   "source": [
    "column_edge = 'Column'\n",
    "column_ID = 'Table'\n",
    "\n",
    "#Windows\n",
    "windows_df = extract_df_os.loc[pd.np.where(extract_df_os.OS.str.contains(\"windows\"))]\n",
    "#print(len(windows_df))\n",
    "\n",
    "#Linux\n",
    "linux_df = extract_df_os.loc[pd.np.where(extract_df_os.OS.str.contains(\"linux\"))]\n",
    "#print(len(linux_df))\n",
    "\n",
    "#MacOS\n",
    "macos_df = extract_df_os.loc[pd.np.where(extract_df_os.OS.str.contains(\"macos\"))]\n",
    "#print(len(macos_df))\n",
    "\n",
    "#FreeBSD\n",
    "freebsd_df = extract_df_os.loc[pd.np.where(extract_df_os.OS.str.contains(\"freebsd\"))]\n",
    "#print(len(freebsd_df))\n",
    "\n",
    "#windows_df.tail(10)"
   ]
  },
  {
   "cell_type": "markdown",
   "metadata": {},
   "source": [
    "# GRAPHS"
   ]
  },
  {
   "cell_type": "markdown",
   "metadata": {},
   "source": [
    "Check the most common `Columns` to filter out common names that will not be able to JOIN.  \n",
    "Used below to start creating the ignore_list, finished it visually checking the paths.  "
   ]
  },
  {
   "cell_type": "code",
   "execution_count": 85,
   "metadata": {},
   "outputs": [],
   "source": [
    "#ignore_list to filter out Columns of no interest later on before creating the graph\n",
    "ignore_list = ['name','path','type','version','size','version','description','status','state','label','class','source','device','mode','value','result','hardware_model','manufacturer','query','model','device_id','action','script_text','time','enabled',\n",
    "               'date','caption','publisher','active','autoupdate','flags','comment','data','registry','author','directory','license','summary','permissions'] \n",
    "#key? Op dit moment uitgefilterd tot alleen >= 10x, misschien toch path erbij maar voor nu nog niet gedaan veel ruis ,'path' voorbeeld http://www.osdfcon.org/presentations/2016/Facebook-osquery.pdf"
   ]
  },
  {
   "cell_type": "markdown",
   "metadata": {},
   "source": [
    "### Determine shortest paths from A to B"
   ]
  },
  {
   "cell_type": "code",
   "execution_count": 64,
   "metadata": {},
   "outputs": [],
   "source": [
    "def shortest_path(df_OS,s,t):\n",
    "    P = nx.from_pandas_edgelist(df=df_OS, source='Table', target='Column')\n",
    "    path_list = []\n",
    "    if nx.has_path(P, s, t):\n",
    "        path_list = nx.shortest_path(P, source=s, target=t)\n",
    "    else:\n",
    "        print('No path available.')\n",
    "    \n",
    "    Q = P.subgraph(path_list)\n",
    "    return (Q, path_list)"
   ]
  },
  {
   "cell_type": "code",
   "execution_count": 67,
   "metadata": {},
   "outputs": [
    {
     "data": {
      "application/vnd.jupyter.widget-view+json": {
       "model_id": "b451b53ad250465abc5004145648d813",
       "version_major": 2,
       "version_minor": 0
      },
      "text/plain": [
       "interactive(children=(Dropdown(description='Source', options=('arp_cache', 'azure_instance_metadata', 'azure_i…"
      ]
     },
     "metadata": {},
     "output_type": "display_data"
    }
   ],
   "source": [
    "# TODO: add other OS filtered tables, maybe create a dropdown for OS\n",
    "windows_df_filtered_tb = windows_df[~windows_df['Column'].isin(ignore_list)]\n",
    "\n",
    "@interact\n",
    "def corr_graph(Source=list(windows_df_filtered_tb.Table.unique()), Destination=list(windows_df_filtered_tb.Table.unique())):\n",
    "    #print(f\"testing\", column1)\n",
    "    sp_graph, sp_list = shortest_path(windows_df_filtered_tb,Source,Destination) #sp_graph, \n",
    "    if sp_list is not None:\n",
    "        #print([p for p in sp_list])\n",
    "        sp_gr=Network(notebook=True, bgcolor=\"#222222\", font_color=\"white\")\n",
    "        sp_gr.add_nodes(sp_list, title=sp_list)# , value='1', color='b'\n",
    "        sp_gr.barnes_hut()\n",
    "        sp_gr.from_nx(sp_graph)\n",
    "        return(sp_gr.show(\"sp_graph.html\"))"
   ]
  },
  {
   "cell_type": "markdown",
   "metadata": {},
   "source": [
    "### Function to create the graph and all its properties "
   ]
  },
  {
   "cell_type": "code",
   "execution_count": 83,
   "metadata": {},
   "outputs": [],
   "source": [
    "def create_OS_graph(df_OS):\n",
    "    #create nx node graph form dataframe\n",
    "    G = nx.from_pandas_edgelist(df=df_OS, source='Table', target='Column')\n",
    "    #initiliaze lists to use for append\n",
    "    colors = []\n",
    "    sizes = []\n",
    "    selected_nodes_list = []\n",
    "    selected_nodes_list_H = []\n",
    "    \n",
    "    #calculate all degrees of separation for the nodes, so how many connection does each node have\n",
    "    degree = nx.degree(G)\n",
    "\n",
    "    #iterate through nodes, if node in Table column than check if node has connections, if so add to list, if no connections discard.\n",
    "    #if node not in Table list than it would be in the Column table and if has more than 1 connection than at to list\n",
    "    for node in G:\n",
    "        if node in df_OS.Table.values:\n",
    "            if (degree(node) > 0):\n",
    "                #print('Table ' + node + ' ' + str(degree(node)))\n",
    "                selected_nodes_list.append(node)\n",
    "        else: \n",
    "            #column has always at least connection to it's own table that is why need to check for more than 1 connection\n",
    "            if (degree(node) > 1):\n",
    "                #print('Column ' + node + ' ' + str(degree(node)))\n",
    "                selected_nodes_list.append(node)\n",
    "\n",
    "    #create subgraph based on filtering above\n",
    "    H = G.subgraph(selected_nodes_list)\n",
    "    degree_H = nx.degree(H)\n",
    "    \n",
    "    #run the same logic as above to filter out tables and columns that were left after removals above\n",
    "    #also add color dependent on column and size dependent on how many connections\n",
    "    for node in H:\n",
    "        if node in df_OS.Table.values:\n",
    "            if (degree_H(node) == 1):\n",
    "                #print('Table ' + node + ' ' + str(degree_H(node)))\n",
    "                selected_nodes_list_H.append(node)\n",
    "                colors.append(\"orange\") #lightblue\n",
    "                sizes.append(300)\n",
    "            elif (degree_H(node) > 1):\n",
    "                selected_nodes_list_H.append(node)\n",
    "                colors.append(\"lightgreen\")\n",
    "                sizes.append(H.degree(node) * 700)\n",
    "        else: \n",
    "            if (degree_H(node) > 1):\n",
    "                #print('Column ' + node + ' ' + str(degree_H(node)))\n",
    "                selected_nodes_list_H.append(node)\n",
    "                colors.append(\"red\")\n",
    "                sizes.append(H.degree(node) * 1000)\n",
    "\n",
    "    I = H.subgraph(selected_nodes_list_H)\n",
    "    return(I, colors, sizes, selected_nodes_list_H)"
   ]
  },
  {
   "cell_type": "code",
   "execution_count": 89,
   "metadata": {},
   "outputs": [
    {
     "data": {
      "text/plain": [
       "name           90\n",
       "path           73\n",
       "type           44\n",
       "version        43\n",
       "size           28\n",
       "uid            28\n",
       "pid            25\n",
       "time           22\n",
       "description    22\n",
       "key            21\n",
       "Name: Column, dtype: int64"
      ]
     },
     "execution_count": 89,
     "metadata": {},
     "output_type": "execute_result"
    }
   ],
   "source": [
    "column_count = extract_df['Column'].value_counts()\n",
    "column_for_joins = column_count[column_count > 1]\n",
    "column_for_joins.head(10)"
   ]
  },
  {
   "cell_type": "markdown",
   "metadata": {},
   "source": [
    "### ALL GRAPH"
   ]
  },
  {
   "cell_type": "code",
   "execution_count": 81,
   "metadata": {
    "collapsed": true,
    "jupyter": {
     "outputs_hidden": true
    }
   },
   "outputs": [
    {
     "data": {
      "text/html": [
       "\n",
       "        <iframe\n",
       "            width=\"1200\"\n",
       "            height=\"800\"\n",
       "            src=\"osquery_tables_OS_ALL_graph.html\"\n",
       "            frameborder=\"0\"\n",
       "            allowfullscreen\n",
       "        ></iframe>\n",
       "        "
      ],
      "text/plain": [
       "<IPython.lib.display.IFrame at 0x23148a57848>"
      ]
     },
     "execution_count": 81,
     "metadata": {},
     "output_type": "execute_result"
    }
   ],
   "source": [
    "OS_graph, colors, sizes, nodelist = create_OS_graph(extract_df_os)\n",
    "\n",
    "#print(OS_graph.number_of_nodes())\n",
    "#print(OS_graph.number_of_edges())\n",
    "\n",
    "gr=Network(height=800, width=1200, notebook=True, bgcolor=\"#222222\", font_color=\"white\")\n",
    "gr.add_nodes(nodelist, value=sizes, title=nodelist, color=colors)\n",
    "gr.barnes_hut()\n",
    "gr.from_nx(OS_graph)\n",
    "gr.show(\"osquery_tables_OS_ALL_graph.html\")"
   ]
  },
  {
   "cell_type": "markdown",
   "metadata": {},
   "source": [
    "### Windows Graph"
   ]
  },
  {
   "cell_type": "code",
   "execution_count": 92,
   "metadata": {},
   "outputs": [
    {
     "name": "stdout",
     "output_type": "stream",
     "text": [
      "Nodes: 84 Edges: 98\n"
     ]
    },
    {
     "data": {
      "text/html": [
       "\n",
       "        <iframe\n",
       "            width=\"1200\"\n",
       "            height=\"800\"\n",
       "            src=\"osquery_tables_OS_win_graph.html\"\n",
       "            frameborder=\"0\"\n",
       "            allowfullscreen\n",
       "        ></iframe>\n",
       "        "
      ],
      "text/plain": [
       "<IPython.lib.display.IFrame at 0x23148a60608>"
      ]
     },
     "execution_count": 92,
     "metadata": {},
     "output_type": "execute_result"
    }
   ],
   "source": [
    "windows_df_filtered = windows_df[~windows_df['Column'].isin(ignore_list)]\n",
    "OS_graph, colors, sizes, nodelist = create_OS_graph(windows_df_filtered)\n",
    "\n",
    "print('Nodes:', OS_graph.number_of_nodes(), 'Edges:', OS_graph.number_of_edges())\n",
    "\n",
    "gr=Network(height=800, width=1200, notebook=True, bgcolor=\"#222222\", font_color=\"white\")\n",
    "gr.add_nodes(nodelist, value=sizes, title=nodelist, color=colors)\n",
    "gr.barnes_hut()\n",
    "gr.from_nx(OS_graph)\n",
    "gr.show(\"osquery_tables_OS_win_graph.html\")"
   ]
  },
  {
   "cell_type": "markdown",
   "metadata": {},
   "source": [
    "### Linux Graph"
   ]
  },
  {
   "cell_type": "code",
   "execution_count": null,
   "metadata": {},
   "outputs": [],
   "source": [
    "linux_df_filtered = linux_df[~linux_df['Column'].isin(ignore_list)]\n",
    "#linux_df_uid=linux_df[linux_df.Column.str.contains('uid')]\n",
    "OS_graph, colors, sizes, nodelist = create_OS_graph(linux_df_filtered)\n",
    "#nx.draw_networkx(OS_graph,with_labels=True,node_color=colors,node_size=sizes)\n",
    "\n",
    "print('Nodes:', OS_graph.number_of_nodes(), 'Edges:', OS_graph.number_of_edges())\n",
    "\n",
    "gr=Network(height=800, width=1000, notebook=True, bgcolor=\"#222222\", font_color=\"white\")\n",
    "gr.add_nodes(nodelist, value=sizes, title=nodelist, color=colors)\n",
    "gr.barnes_hut()\n",
    "gr.from_nx(OS_graph)\n",
    "gr.show(\"osquery_tables_OS_lin_graph.html\")"
   ]
  },
  {
   "cell_type": "markdown",
   "metadata": {},
   "source": [
    "### MacOS Graph"
   ]
  },
  {
   "cell_type": "code",
   "execution_count": null,
   "metadata": {},
   "outputs": [],
   "source": [
    "macos_df_filtered = macos_df[~macos_df['Column'].isin(ignore_list)]\n",
    "#macos_df_uid=macos_df[macos_df.Column.str.contains('uid')]\n",
    "\n",
    "OS_graph, colors, sizes, nodelist = create_OS_graph(macos_df_filtered)\n",
    "#nx.draw_networkx(OS_graph,with_labels=True,node_color=colors,node_size=sizes)\n",
    "\n",
    "print('Nodes:', OS_graph.number_of_nodes(), 'Edges:', OS_graph.number_of_edges())\n",
    "#print(OS_graph.number_of_edges())\n",
    "\n",
    "gr=Network(height=800, width=1000, notebook=True, bgcolor=\"#222222\", font_color=\"white\")\n",
    "gr.add_nodes(nodelist, value=sizes, title=nodelist, color=colors)\n",
    "gr.barnes_hut()\n",
    "gr.from_nx(OS_graph)\n",
    "gr.show(\"osquery_tables_OS_mac_graph.html\")"
   ]
  },
  {
   "cell_type": "markdown",
   "metadata": {},
   "source": [
    "### FreeBSD Graph"
   ]
  },
  {
   "cell_type": "code",
   "execution_count": null,
   "metadata": {},
   "outputs": [],
   "source": [
    "freebsd_df_filtered = freebsd_df[~freebsd_df['Column'].isin(ignore_list)]\n",
    "#freebsd_df_uid=freebsd_df[freebsd_df.Column.str.contains('uid')]\n",
    "\n",
    "OS_graph, colors, sizes, nodelist = create_OS_graph(freebsd_df_filtered)\n",
    "\n",
    "print('Nodes:', OS_graph.number_of_nodes(), 'Edges:', OS_graph.number_of_edges())\n",
    "\n",
    "gr=Network(height=800, width=1000, notebook=True, bgcolor=\"#222222\", font_color=\"white\")\n",
    "gr.add_nodes(nodelist, value=sizes, title=nodelist, color=colors)\n",
    "gr.barnes_hut()\n",
    "gr.from_nx(OS_graph)\n",
    "gr.show(\"osquery_tables_OS_freebsd_graph.html\")"
   ]
  },
  {
   "cell_type": "markdown",
   "metadata": {},
   "source": [
    "### All shortest paths WIP"
   ]
  },
  {
   "cell_type": "code",
   "execution_count": 112,
   "metadata": {},
   "outputs": [],
   "source": [
    "def shortest_path_source(df_OS,s):\n",
    "    P = nx.from_pandas_edgelist(df=df_OS, source='Table', target='Column')\n",
    "    path_list_s = []\n",
    "    #if nx.has_path(P, s, t):\n",
    "    path_list_s = nx.single_source_shortest_path(P, source=s, cutoff=2)\n",
    "    #else:\n",
    "    #   print('No path available.')\n",
    "    \n",
    "    Q = P.subgraph(path_list_s)\n",
    "    return (Q, path_list_s)"
   ]
  },
  {
   "cell_type": "code",
   "execution_count": 113,
   "metadata": {},
   "outputs": [
    {
     "data": {
      "application/vnd.jupyter.widget-view+json": {
       "model_id": "afb8ee78ef1f4c74be846750158ca93b",
       "version_major": 2,
       "version_minor": 0
      },
      "text/plain": [
       "interactive(children=(Dropdown(description='Source', options=('arp_cache', 'azure_instance_metadata', 'azure_i…"
      ]
     },
     "metadata": {},
     "output_type": "display_data"
    }
   ],
   "source": [
    "# TODO: add other OS filtered tables, maybe create a dropdown for OS\n",
    "windows_df_filtered_tb = windows_df[~windows_df['Column'].isin(ignore_list)]\n",
    "\n",
    "@interact\n",
    "def corr_graph_source(Source=list(windows_df_filtered_tb.Table.unique())):\n",
    "    #print(f\"testing\", column1)\n",
    "    sp_graph_s, sp_list_s = shortest_path_source(windows_df_filtered_tb,Source) #sp_graph, \n",
    "    #if sp_list is not None:\n",
    "        #print([p for p in sp_list])\n",
    "    sp_gr_s=Network(notebook=True, bgcolor=\"#222222\", font_color=\"white\")\n",
    "    #sp_gr_s.add_nodes(sp_list_s, title=sp_list_s)# , value='1', color='b'\n",
    "    sp_gr_s.barnes_hut()\n",
    "    sp_gr_s.from_nx(sp_graph_s)\n",
    "    return(sp_gr_s.show(\"sp_graph_s.html\"))"
   ]
  },
  {
   "cell_type": "code",
   "execution_count": null,
   "metadata": {},
   "outputs": [],
   "source": [
    "#Source:\n",
    "#https://towardsdatascience.com/getting-started-with-graph-analysis-in-python-with-pandas-and-networkx-5e2d2f82f18e\n",
    "#https://stackoverflow.com/questions/55342586/assign-color-to-networkx-node-based-on-column-name\n",
    "#https://pyvis.readthedocs.io/en/latest/tutorial.html"
   ]
  }
 ],
 "metadata": {
  "kernelspec": {
   "display_name": "Python 3",
   "language": "python",
   "name": "python3"
  },
  "language_info": {
   "codemirror_mode": {
    "name": "ipython",
    "version": 3
   },
   "file_extension": ".py",
   "mimetype": "text/x-python",
   "name": "python",
   "nbconvert_exporter": "python",
   "pygments_lexer": "ipython3",
   "version": "3.7.4"
  }
 },
 "nbformat": 4,
 "nbformat_minor": 4
}
